{
 "cells": [
  {
   "cell_type": "code",
   "execution_count": 6,
   "metadata": {},
   "outputs": [
    {
     "name": "stdout",
     "output_type": "stream",
     "text": [
      "The steady states of the simplified model growth are going to be at  [(0, 0), (-pm/km, p/km)] For T and Tm\n",
      "The steady states are going to be at log10(T) and log10(Tm) equal to [7.181 6.997]\n"
     ]
    }
   ],
   "source": [
    "# -*- coding: utf-8 -*-\n",
    "\"\"\"\n",
    "@author: milto\n",
    "\n",
    "\"\"\"\n",
    "from sympy import symbols, Eq, solve\n",
    "import numpy as np\n",
    "\n",
    "# Define the variables and parameters\n",
    "T, Tm = symbols('T Tm')\n",
    "p, pm, km = symbols('p pm km')\n",
    "\n",
    "# Simplified ODEs\n",
    "dT_dt = (p - km * Tm) * T\n",
    "dTm_dt = (pm + km * T) * Tm\n",
    "eq1 = Eq(dT_dt, 0)\n",
    "eq2 = Eq(dTm_dt, 0)\n",
    "\n",
    "# Solution\n",
    "steady_states = solve((eq1, eq2), (T, Tm))\n",
    "\n",
    "print(\"The steady states of the simplified model growth are going to be at \", steady_states, \"For T and Tm\")\n",
    "\n",
    "T0 = 32554830\n",
    "Tm0 = 134173\n",
    "param_values = [1.5e-2, -2.29e-2, 1.51e-9]  # Values for p, pm, km\n",
    "p, pm, km = param_values\n",
    "tspan = (70, 180)\n",
    "\n",
    "SS = np.round(np.log10([-pm/km, p/km]), 3)\n",
    "print(f\"The steady states are going to be at log10(T) and log10(Tm) equal to {SS}\")"
   ]
  }
 ],
 "metadata": {
  "kernelspec": {
   "display_name": "Python 3 (ipykernel)",
   "language": "python",
   "name": "python3"
  },
  "language_info": {
   "codemirror_mode": {
    "name": "ipython",
    "version": 3
   },
   "file_extension": ".py",
   "mimetype": "text/x-python",
   "name": "python",
   "nbconvert_exporter": "python",
   "pygments_lexer": "ipython3",
   "version": "3.11.4"
  }
 },
 "nbformat": 4,
 "nbformat_minor": 2
}
